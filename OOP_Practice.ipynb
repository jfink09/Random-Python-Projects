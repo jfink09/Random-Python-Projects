{
  "nbformat": 4,
  "nbformat_minor": 0,
  "metadata": {
    "colab": {
      "provenance": [],
      "authorship_tag": "ABX9TyNq5a/bx6+bLronVr/rLkcC",
      "include_colab_link": true
    },
    "kernelspec": {
      "name": "python3",
      "display_name": "Python 3"
    },
    "language_info": {
      "name": "python"
    }
  },
  "cells": [
    {
      "cell_type": "markdown",
      "metadata": {
        "id": "view-in-github",
        "colab_type": "text"
      },
      "source": [
        "<a href=\"https://colab.research.google.com/github/jfink09/Random-Python-Projects/blob/main/OOP_Practice.ipynb\" target=\"_parent\"><img src=\"https://colab.research.google.com/assets/colab-badge.svg\" alt=\"Open In Colab\"/></a>"
      ]
    },
    {
      "cell_type": "code",
      "execution_count": 7,
      "metadata": {
        "colab": {
          "base_uri": "https://localhost:8080/"
        },
        "id": "1Pf6wSvQASQH",
        "outputId": "a9f7de3b-c5cf-4a92-be52-5aa520ddafd9"
      },
      "outputs": [
        {
          "output_type": "stream",
          "name": "stdout",
          "text": [
            "Tim\n",
            "23\n"
          ]
        }
      ],
      "source": [
        "class Dog:\n",
        "  def __init__(self,name, age):\n",
        "    self.name = name\n",
        "    self.age = age\n",
        "\n",
        "  def add_one(self,x):\n",
        "    return x + 1\n",
        "  \n",
        "  def bark(self):\n",
        "    print(\"bark\")\n",
        "  \n",
        "  def get_name(self):\n",
        "    return self.name\n",
        "  \n",
        "  def get_age(self):\n",
        "    return self.age\n",
        "\n",
        "  def set_age(self,age):\n",
        "    self.age = age\n",
        "\n",
        "d1 = Dog(\"Tim\", 34)\n",
        "d1.set_age(23)\n",
        "\n",
        "print(d1.get_name())\n",
        "print(d1.get_age())"
      ]
    },
    {
      "cell_type": "code",
      "source": [
        "class Student:\n",
        "  def __init__(self,name,age,grade):\n",
        "    self.name = name\n",
        "    self.age = age\n",
        "    self.grade = grade\n",
        "  \n",
        "  def get_grade(self):\n",
        "    return self.grade\n",
        "\n",
        "class Course:\n",
        "  def __init__(self,name,max_students):\n",
        "    self.name = name\n",
        "    self.max_students = max_students\n",
        "    self.students = []\n",
        "    #self.is_active = False\n",
        "\n",
        "  def add_student(self,student):\n",
        "    if len(self.students) < self.max_students:\n",
        "      self.students.append(student)\n",
        "      return True\n",
        "    return False\n",
        "  \n",
        "  def get_average_grade(self):\n",
        "    value = 0\n",
        "    for student in self.students:\n",
        "      value += student.get_grade()\n",
        "    return value / len(self.students)\n",
        "\n",
        "s1 = Student(\"Tim\", 19, 95)\n",
        "s2 = Student(\"Bill\", 19, 75)\n",
        "s3 = Student(\"Jill\", 19, 65)\n",
        "\n",
        "course = Course(\"Science\", 2)\n",
        "course.add_student(s1)\n",
        "course.add_student(s2)\n",
        "print(course.students[0].name)\n",
        "print(course.add_student(s3))\n",
        "print(course.get_average_grade())"
      ],
      "metadata": {
        "colab": {
          "base_uri": "https://localhost:8080/"
        },
        "id": "gDUlnsMMBUeu",
        "outputId": "a7eb633a-aafb-422b-ea52-78ba6cbb4ebd"
      },
      "execution_count": 13,
      "outputs": [
        {
          "output_type": "stream",
          "name": "stdout",
          "text": [
            "Tim\n",
            "False\n",
            "85.0\n"
          ]
        }
      ]
    },
    {
      "cell_type": "code",
      "source": [
        "# Inheritence\n",
        "\n",
        "class Pet:\n",
        "  def __init__(self,name,age):\n",
        "    self.name = name\n",
        "    self.age = age\n",
        "\n",
        "  def show(self):\n",
        "    print(f\"I am {self.name} and I am {self.age} years old\")\n",
        "\n",
        "  def speak(self):\n",
        "    print(\"Speaking\")\n",
        "\n",
        "class Cat(Pet):\n",
        "  def __init__(self,name,age,color):\n",
        "    super().__init__(name,age)\n",
        "    self.color = color\n",
        "  def speak(self):\n",
        "    print(\"Meow\")\n",
        "  def show(self):\n",
        "    print(f\"I am {self.name} and I am {self.age} years old and I am {self.color}\")\n",
        "\n",
        "class Dog(Pet):\n",
        "  def speak(self):\n",
        "    print(\"Bark\")\n",
        "\n",
        "p = Pet(\"Tim\", 19)\n",
        "p.show()\n",
        "c = Cat(\"Bill\", 34, \"Brown\")\n",
        "c.show()\n",
        "d = Dog(\"Jill\", 25)\n",
        "d.show()"
      ],
      "metadata": {
        "colab": {
          "base_uri": "https://localhost:8080/"
        },
        "id": "Suhl-0Z_D8lS",
        "outputId": "891ea45c-9ec5-4eb8-89a2-49163b739f31"
      },
      "execution_count": 20,
      "outputs": [
        {
          "output_type": "stream",
          "name": "stdout",
          "text": [
            "I am Tim and I am 19 years old\n",
            "I am Bill and I am 34 years old and I am Brown\n",
            "I am Jill and I am 25 years old\n"
          ]
        }
      ]
    },
    {
      "cell_type": "code",
      "source": [
        "class Person:\n",
        "  number_of_people = 0\n",
        "\n",
        "  def __init__(self,name):\n",
        "    self.name = name\n",
        "    Person.number_of_people += 1\n",
        "\n",
        "  @classmethod\n",
        "  def number_of_people_(cls):\n",
        "    #return cls.number_of_people_()\n",
        "\n",
        "   @classmethod\n",
        "   def add_person(cls):\n",
        "     cls.number_of_people += 1\n",
        "\n",
        "p1 = Person(\"Tim\")\n",
        "p2 = Person(\"Jill\")\n",
        "print(Person.number_of_people_())"
      ],
      "metadata": {
        "colab": {
          "base_uri": "https://localhost:8080/"
        },
        "id": "KLX2a9QQGknb",
        "outputId": "9322b79e-0c68-45cb-a3e6-18ae3b11b421"
      },
      "execution_count": 37,
      "outputs": [
        {
          "output_type": "stream",
          "name": "stdout",
          "text": [
            "None\n"
          ]
        }
      ]
    },
    {
      "cell_type": "code",
      "source": [
        "class Math:\n",
        "\n",
        "  @staticmethod\n",
        "  def add5(x):\n",
        "    return x + 5\n",
        "\n",
        "  @staticmethod\n",
        "  def pr():\n",
        "    print(\"run\")\n",
        "\n",
        "print(Math.add5(5))\n",
        "Math.pr()"
      ],
      "metadata": {
        "colab": {
          "base_uri": "https://localhost:8080/"
        },
        "id": "4Sg1ox94JhDL",
        "outputId": "ea9244cc-2910-4293-ce6d-98b456c40689"
      },
      "execution_count": 28,
      "outputs": [
        {
          "output_type": "stream",
          "name": "stdout",
          "text": [
            "10\n",
            "run\n"
          ]
        }
      ]
    }
  ]
}